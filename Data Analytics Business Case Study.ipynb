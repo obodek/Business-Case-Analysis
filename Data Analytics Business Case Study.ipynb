{
 "cells": [
  {
   "cell_type": "markdown",
   "metadata": {},
   "source": [
    "## Business Case Study"
   ]
  },
  {
   "cell_type": "code",
   "execution_count": 86,
   "metadata": {},
   "outputs": [],
   "source": [
    "import pandas as pd\n",
    "import os\n",
    "import numpy as np\n",
    "import datetime as dt\n",
    "import matplotlib.pyplot as plt"
   ]
  },
  {
   "cell_type": "markdown",
   "metadata": {},
   "source": [
    "### Merging seperate csv files"
   ]
  },
  {
   "cell_type": "code",
   "execution_count": 181,
   "metadata": {},
   "outputs": [],
   "source": [
    "#columns names in English\n",
    "columns = [\"Country identifier\", \"Order identifier\", \"Departure date\", \"Amount\", \"Category\", \"Product\", \"Ticket number\", \"Ticket issuance date\", \"Booking identifier\", \"Ticket route\", \"Airline code\", \"Booking channel\", \"Booking sub-channell\", \"Date of last segment\", \"New/Changed/Cancelled\", \"Destination\"]"
   ]
  },
  {
   "cell_type": "code",
   "execution_count": 88,
   "metadata": {},
   "outputs": [],
   "source": [
    "# iterate over all files within \"TM_datafiles\" folder (here: Travix_Business_Case folder)\n",
    "for file in os.listdir(\"_._\"):\n",
    "    if file.endswith(\".csv\"):\n",
    "        tmp = pd.read_csv(os.path.join(\"_._\", file), sep=';', skiprows=4)\n",
    "        tmp.to_csv(\"merged.csv\", index=False, header=False, mode='a')"
   ]
  },
  {
   "cell_type": "code",
   "execution_count": 182,
   "metadata": {},
   "outputs": [
    {
     "data": {
      "text/html": [
       "<div>\n",
       "<style scoped>\n",
       "    .dataframe tbody tr th:only-of-type {\n",
       "        vertical-align: middle;\n",
       "    }\n",
       "\n",
       "    .dataframe tbody tr th {\n",
       "        vertical-align: top;\n",
       "    }\n",
       "\n",
       "    .dataframe thead th {\n",
       "        text-align: right;\n",
       "    }\n",
       "</style>\n",
       "<table border=\"1\" class=\"dataframe\">\n",
       "  <thead>\n",
       "    <tr style=\"text-align: right;\">\n",
       "      <th></th>\n",
       "      <th>Country identifier</th>\n",
       "      <th>Order identifier</th>\n",
       "      <th>Departure date</th>\n",
       "      <th>Amount</th>\n",
       "      <th>Category</th>\n",
       "      <th>Product</th>\n",
       "      <th>Ticket number</th>\n",
       "      <th>Ticket issuance date</th>\n",
       "      <th>Booking identifier</th>\n",
       "      <th>Ticket route</th>\n",
       "      <th>Airline code</th>\n",
       "      <th>Booking channel</th>\n",
       "      <th>Booking sub-channell</th>\n",
       "      <th>Date of last segment</th>\n",
       "      <th>New/Changed/Cancelled</th>\n",
       "      <th>Destination</th>\n",
       "    </tr>\n",
       "  </thead>\n",
       "  <tbody>\n",
       "    <tr>\n",
       "      <td>0</td>\n",
       "      <td>3</td>\n",
       "      <td>484336</td>\n",
       "      <td>19-12-2013</td>\n",
       "      <td>-306,97</td>\n",
       "      <td>FLIGHT</td>\n",
       "      <td>Vliegticket</td>\n",
       "      <td>6,70432E+12</td>\n",
       "      <td>1-12-2013</td>\n",
       "      <td>63FWQCM</td>\n",
       "      <td>LED/VKO/JFK/BOS</td>\n",
       "      <td>UN</td>\n",
       "      <td>NaN</td>\n",
       "      <td>NaN</td>\n",
       "      <td>19-12-2013</td>\n",
       "      <td>A</td>\n",
       "      <td>JFK</td>\n",
       "    </tr>\n",
       "    <tr>\n",
       "      <td>1</td>\n",
       "      <td>3</td>\n",
       "      <td>489855</td>\n",
       "      <td>5-1-2014</td>\n",
       "      <td>391,85</td>\n",
       "      <td>FLIGHT</td>\n",
       "      <td>Vliegticket</td>\n",
       "      <td>6,24463E+12</td>\n",
       "      <td>1-1-2014</td>\n",
       "      <td>5HFOHUM</td>\n",
       "      <td>ZRH/SAW/IKA/SAW/CGN</td>\n",
       "      <td>PC</td>\n",
       "      <td>NaN</td>\n",
       "      <td>NaN</td>\n",
       "      <td>18-1-2014</td>\n",
       "      <td>N</td>\n",
       "      <td>IKA</td>\n",
       "    </tr>\n",
       "    <tr>\n",
       "      <td>2</td>\n",
       "      <td>3</td>\n",
       "      <td>489779</td>\n",
       "      <td>12-1-2014</td>\n",
       "      <td>106,2</td>\n",
       "      <td>FLIGHT</td>\n",
       "      <td>Vliegticket</td>\n",
       "      <td>5,54634E+11</td>\n",
       "      <td>1-1-2014</td>\n",
       "      <td>49LBRRM</td>\n",
       "      <td>FCO/SUF/FCO</td>\n",
       "      <td>AZ</td>\n",
       "      <td>NaN</td>\n",
       "      <td>NaN</td>\n",
       "      <td>26-1-2014</td>\n",
       "      <td>N</td>\n",
       "      <td>SUF</td>\n",
       "    </tr>\n",
       "    <tr>\n",
       "      <td>3</td>\n",
       "      <td>3</td>\n",
       "      <td>489787</td>\n",
       "      <td>18-2-2014</td>\n",
       "      <td>120,83</td>\n",
       "      <td>FLIGHT</td>\n",
       "      <td>Vliegticket</td>\n",
       "      <td>1,64634E+11</td>\n",
       "      <td>1-1-2014</td>\n",
       "      <td>5DBSCTM</td>\n",
       "      <td>DEN/LAS</td>\n",
       "      <td>UA</td>\n",
       "      <td>NaN</td>\n",
       "      <td>NaN</td>\n",
       "      <td>18-2-2014</td>\n",
       "      <td>N</td>\n",
       "      <td>LAS</td>\n",
       "    </tr>\n",
       "    <tr>\n",
       "      <td>4</td>\n",
       "      <td>3</td>\n",
       "      <td>489787</td>\n",
       "      <td>18-2-2014</td>\n",
       "      <td>120,83</td>\n",
       "      <td>FLIGHT</td>\n",
       "      <td>Vliegticket</td>\n",
       "      <td>1,64634E+11</td>\n",
       "      <td>1-1-2014</td>\n",
       "      <td>5DBSCTM</td>\n",
       "      <td>DEN/LAS</td>\n",
       "      <td>UA</td>\n",
       "      <td>NaN</td>\n",
       "      <td>NaN</td>\n",
       "      <td>18-2-2014</td>\n",
       "      <td>N</td>\n",
       "      <td>LAS</td>\n",
       "    </tr>\n",
       "  </tbody>\n",
       "</table>\n",
       "</div>"
      ],
      "text/plain": [
       "   Country identifier  Order identifier Departure date   Amount Category  \\\n",
       "0                   3            484336     19-12-2013  -306,97   FLIGHT   \n",
       "1                   3            489855       5-1-2014   391,85   FLIGHT   \n",
       "2                   3            489779      12-1-2014    106,2   FLIGHT   \n",
       "3                   3            489787      18-2-2014   120,83   FLIGHT   \n",
       "4                   3            489787      18-2-2014   120,83   FLIGHT   \n",
       "\n",
       "       Product Ticket number Ticket issuance date Booking identifier  \\\n",
       "0  Vliegticket   6,70432E+12            1-12-2013            63FWQCM   \n",
       "1  Vliegticket   6,24463E+12             1-1-2014            5HFOHUM   \n",
       "2  Vliegticket   5,54634E+11             1-1-2014            49LBRRM   \n",
       "3  Vliegticket   1,64634E+11             1-1-2014            5DBSCTM   \n",
       "4  Vliegticket   1,64634E+11             1-1-2014            5DBSCTM   \n",
       "\n",
       "          Ticket route Airline code Booking channel Booking sub-channell  \\\n",
       "0      LED/VKO/JFK/BOS           UN             NaN                  NaN   \n",
       "1  ZRH/SAW/IKA/SAW/CGN           PC             NaN                  NaN   \n",
       "2          FCO/SUF/FCO           AZ             NaN                  NaN   \n",
       "3              DEN/LAS           UA             NaN                  NaN   \n",
       "4              DEN/LAS           UA             NaN                  NaN   \n",
       "\n",
       "  Date of last segment New/Changed/Cancelled Destination  \n",
       "0           19-12-2013                     A         JFK  \n",
       "1            18-1-2014                     N         IKA  \n",
       "2            26-1-2014                     N         SUF  \n",
       "3            18-2-2014                     N         LAS  \n",
       "4            18-2-2014                     N         LAS  "
      ]
     },
     "execution_count": 182,
     "metadata": {},
     "output_type": "execute_result"
    }
   ],
   "source": [
    "#reading the merged data frame with translated to English names of columns\n",
    "df = pd.read_csv(\"merged.csv\", names = columns)\n",
    "df.head()"
   ]
  },
  {
   "cell_type": "code",
   "execution_count": 90,
   "metadata": {},
   "outputs": [
    {
     "data": {
      "text/html": [
       "<div>\n",
       "<style scoped>\n",
       "    .dataframe tbody tr th:only-of-type {\n",
       "        vertical-align: middle;\n",
       "    }\n",
       "\n",
       "    .dataframe tbody tr th {\n",
       "        vertical-align: top;\n",
       "    }\n",
       "\n",
       "    .dataframe thead th {\n",
       "        text-align: right;\n",
       "    }\n",
       "</style>\n",
       "<table border=\"1\" class=\"dataframe\">\n",
       "  <thead>\n",
       "    <tr style=\"text-align: right;\">\n",
       "      <th></th>\n",
       "      <th>Country identifier</th>\n",
       "      <th>Order identifier</th>\n",
       "      <th>Departure date</th>\n",
       "      <th>Amount</th>\n",
       "      <th>Category</th>\n",
       "      <th>Product</th>\n",
       "      <th>Ticket number</th>\n",
       "      <th>Ticket issuance date</th>\n",
       "      <th>Booking identifier</th>\n",
       "      <th>Ticket route</th>\n",
       "      <th>Airline code</th>\n",
       "      <th>Booking channel</th>\n",
       "      <th>Booking sub-channell</th>\n",
       "      <th>Date of last segment</th>\n",
       "      <th>New/Changed/Cancelled</th>\n",
       "      <th>Destination</th>\n",
       "    </tr>\n",
       "  </thead>\n",
       "  <tbody>\n",
       "    <tr>\n",
       "      <td>2157</td>\n",
       "      <td>32</td>\n",
       "      <td>18858</td>\n",
       "      <td>12-6-2014</td>\n",
       "      <td>21.492,00</td>\n",
       "      <td>FLIGHT</td>\n",
       "      <td>Vliegticket</td>\n",
       "      <td>A5GSK6OM003</td>\n",
       "      <td>1-1-2014</td>\n",
       "      <td>5GSK6OM</td>\n",
       "      <td>SVO/JFK/SVO</td>\n",
       "      <td>DL</td>\n",
       "      <td>momondo bua.ru</td>\n",
       "      <td>NaN</td>\n",
       "      <td>6-7-2014</td>\n",
       "      <td>N</td>\n",
       "      <td>JFK</td>\n",
       "    </tr>\n",
       "    <tr>\n",
       "      <td>2158</td>\n",
       "      <td>32</td>\n",
       "      <td>18858</td>\n",
       "      <td>12-6-2014</td>\n",
       "      <td>21.492,00</td>\n",
       "      <td>FLIGHT</td>\n",
       "      <td>Vliegticket</td>\n",
       "      <td>A5GSK6OM002</td>\n",
       "      <td>1-1-2014</td>\n",
       "      <td>5GSK6OM</td>\n",
       "      <td>SVO/JFK/SVO</td>\n",
       "      <td>DL</td>\n",
       "      <td>momondo bua.ru</td>\n",
       "      <td>NaN</td>\n",
       "      <td>6-7-2014</td>\n",
       "      <td>N</td>\n",
       "      <td>JFK</td>\n",
       "    </tr>\n",
       "    <tr>\n",
       "      <td>2159</td>\n",
       "      <td>32</td>\n",
       "      <td>18858</td>\n",
       "      <td>1-1-2014</td>\n",
       "      <td>3.482,23</td>\n",
       "      <td>OVERIGE</td>\n",
       "      <td>Boekingskosten</td>\n",
       "      <td>NaN</td>\n",
       "      <td>NaN</td>\n",
       "      <td>NaN</td>\n",
       "      <td>NaN</td>\n",
       "      <td>NaN</td>\n",
       "      <td>NaN</td>\n",
       "      <td>NaN</td>\n",
       "      <td>1-1-2014</td>\n",
       "      <td>N</td>\n",
       "      <td>NaN</td>\n",
       "    </tr>\n",
       "    <tr>\n",
       "      <td>2160</td>\n",
       "      <td>32</td>\n",
       "      <td>18830</td>\n",
       "      <td>7-1-2014</td>\n",
       "      <td>22.907,00</td>\n",
       "      <td>FLIGHT</td>\n",
       "      <td>Vliegticket</td>\n",
       "      <td>1,57464E+12</td>\n",
       "      <td>1-1-2014</td>\n",
       "      <td>5CS4QTM</td>\n",
       "      <td>DME/DOH/BKK/DOH/DME</td>\n",
       "      <td>QR</td>\n",
       "      <td>momondo bua.ru</td>\n",
       "      <td>NaN</td>\n",
       "      <td>4-2-2014</td>\n",
       "      <td>N</td>\n",
       "      <td>BKK</td>\n",
       "    </tr>\n",
       "    <tr>\n",
       "      <td>2161</td>\n",
       "      <td>32</td>\n",
       "      <td>18830</td>\n",
       "      <td>1-1-2014</td>\n",
       "      <td>1.343,91</td>\n",
       "      <td>OVERIGE</td>\n",
       "      <td>Boekingskosten</td>\n",
       "      <td>NaN</td>\n",
       "      <td>NaN</td>\n",
       "      <td>NaN</td>\n",
       "      <td>NaN</td>\n",
       "      <td>NaN</td>\n",
       "      <td>NaN</td>\n",
       "      <td>NaN</td>\n",
       "      <td>1-1-2014</td>\n",
       "      <td>N</td>\n",
       "      <td>NaN</td>\n",
       "    </tr>\n",
       "  </tbody>\n",
       "</table>\n",
       "</div>"
      ],
      "text/plain": [
       "      Country identifier  Order identifier Departure date     Amount Category  \\\n",
       "2157                  32             18858      12-6-2014  21.492,00   FLIGHT   \n",
       "2158                  32             18858      12-6-2014  21.492,00   FLIGHT   \n",
       "2159                  32             18858       1-1-2014   3.482,23  OVERIGE   \n",
       "2160                  32             18830       7-1-2014  22.907,00   FLIGHT   \n",
       "2161                  32             18830       1-1-2014   1.343,91  OVERIGE   \n",
       "\n",
       "             Product Ticket number Ticket issuance date Booking identifier  \\\n",
       "2157     Vliegticket   A5GSK6OM003             1-1-2014            5GSK6OM   \n",
       "2158     Vliegticket   A5GSK6OM002             1-1-2014            5GSK6OM   \n",
       "2159  Boekingskosten           NaN                  NaN                NaN   \n",
       "2160     Vliegticket   1,57464E+12             1-1-2014            5CS4QTM   \n",
       "2161  Boekingskosten           NaN                  NaN                NaN   \n",
       "\n",
       "             Ticket route Airline code Booking channel Booking sub-channell  \\\n",
       "2157          SVO/JFK/SVO           DL  momondo bua.ru                  NaN   \n",
       "2158          SVO/JFK/SVO           DL  momondo bua.ru                  NaN   \n",
       "2159                  NaN          NaN             NaN                  NaN   \n",
       "2160  DME/DOH/BKK/DOH/DME           QR  momondo bua.ru                  NaN   \n",
       "2161                  NaN          NaN             NaN                  NaN   \n",
       "\n",
       "     Date of last segment New/Changed/Cancelled Destination  \n",
       "2157             6-7-2014                     N         JFK  \n",
       "2158             6-7-2014                     N         JFK  \n",
       "2159             1-1-2014                     N         NaN  \n",
       "2160             4-2-2014                     N         BKK  \n",
       "2161             1-1-2014                     N         NaN  "
      ]
     },
     "execution_count": 90,
     "metadata": {},
     "output_type": "execute_result"
    }
   ],
   "source": [
    "#checking seperate datafiles to examine whether the final dataset was merged correctly\n",
    "df_01012014 = pd.read_csv('Travix_Business_Case/01012014.csv', sep= ';', skiprows=5, names = [\"Country identifier\", \"Order identifier\", \"Departure date\", \"Amount\", \"Category\", \"Product\", \"Ticket number\", \"Ticket issuance date\", \"Booking identifier\", \"Ticket route\", \"Airline code\", \"Booking channel\", \"Booking sub-channell\", \"Date of last segment\", \"New/Changed/Cancelled\", \"Destination\"])\n",
    "df_01012014.tail()"
   ]
  },
  {
   "cell_type": "code",
   "execution_count": 91,
   "metadata": {},
   "outputs": [
    {
     "data": {
      "text/plain": [
       "Country identifier        True\n",
       "Order identifier          True\n",
       "Departure date            True\n",
       "Amount                    True\n",
       "Category                  True\n",
       "Product                   True\n",
       "Ticket number             True\n",
       "Ticket issuance date      True\n",
       "Booking identifier        True\n",
       "Ticket route              True\n",
       "Airline code              True\n",
       "Booking channel          False\n",
       "Booking sub-channell     False\n",
       "Date of last segment      True\n",
       "New/Changed/Cancelled     True\n",
       "Destination               True\n",
       "Name: 1, dtype: bool"
      ]
     },
     "execution_count": 91,
     "metadata": {},
     "output_type": "execute_result"
    }
   ],
   "source": [
    "#checking whether the first row of a merged data set equals the first row from a file in a TM_datafiles folder. \n",
    "#The analysis below shows that the rows that do have any values (not NaN) are equal to each other\n",
    "df_01012014.loc[1,:] == df.loc[1,:]"
   ]
  },
  {
   "cell_type": "code",
   "execution_count": 92,
   "metadata": {},
   "outputs": [
    {
     "data": {
      "text/plain": [
       "Country identifier        True\n",
       "Order identifier          True\n",
       "Departure date            True\n",
       "Amount                    True\n",
       "Category                  True\n",
       "Product                   True\n",
       "Ticket number            False\n",
       "Ticket issuance date     False\n",
       "Booking identifier       False\n",
       "Ticket route             False\n",
       "Airline code             False\n",
       "Booking channel          False\n",
       "Booking sub-channell     False\n",
       "Date of last segment      True\n",
       "New/Changed/Cancelled     True\n",
       "Destination              False\n",
       "Name: 2161, dtype: bool"
      ]
     },
     "execution_count": 92,
     "metadata": {},
     "output_type": "execute_result"
    }
   ],
   "source": [
    "#same as above but for the last row of the first file in a TM_datafiles folder\n",
    "df_01012014.iloc[-1,:] == df.loc[2161,:]"
   ]
  },
  {
   "cell_type": "markdown",
   "metadata": {},
   "source": [
    "### The benefit/loss due to cancellations and changes from 14.12.2013-13.01.2014. \n"
   ]
  },
  {
   "cell_type": "markdown",
   "metadata": {},
   "source": [
    "##### 14.12.2013 - 13.01.2014  dataset"
   ]
  },
  {
   "cell_type": "code",
   "execution_count": 94,
   "metadata": {},
   "outputs": [],
   "source": [
    "#change the Departure date column to pandas datatime object\n",
    "df['Departure date'] = pd.to_datetime(df['Departure date'])"
   ]
  },
  {
   "cell_type": "code",
   "execution_count": 95,
   "metadata": {},
   "outputs": [],
   "source": [
    "df_tf = df[(df['Departure date'] >= '14-12-2013') & (df['Departure date'] <= '13-01-2014')]"
   ]
  },
  {
   "cell_type": "code",
   "execution_count": 96,
   "metadata": {},
   "outputs": [
    {
     "data": {
      "text/html": [
       "<div>\n",
       "<style scoped>\n",
       "    .dataframe tbody tr th:only-of-type {\n",
       "        vertical-align: middle;\n",
       "    }\n",
       "\n",
       "    .dataframe tbody tr th {\n",
       "        vertical-align: top;\n",
       "    }\n",
       "\n",
       "    .dataframe thead th {\n",
       "        text-align: right;\n",
       "    }\n",
       "</style>\n",
       "<table border=\"1\" class=\"dataframe\">\n",
       "  <thead>\n",
       "    <tr style=\"text-align: right;\">\n",
       "      <th></th>\n",
       "      <th>Country identifier</th>\n",
       "      <th>Order identifier</th>\n",
       "      <th>Departure date</th>\n",
       "      <th>Amount</th>\n",
       "      <th>Category</th>\n",
       "      <th>Product</th>\n",
       "      <th>Ticket number</th>\n",
       "      <th>Ticket issuance date</th>\n",
       "      <th>Booking identifier</th>\n",
       "      <th>Ticket route</th>\n",
       "      <th>Airline code</th>\n",
       "      <th>Booking channel</th>\n",
       "      <th>Booking sub-channell</th>\n",
       "      <th>Date of last segment</th>\n",
       "      <th>New/Changed/Cancelled</th>\n",
       "      <th>Destination</th>\n",
       "    </tr>\n",
       "  </thead>\n",
       "  <tbody>\n",
       "    <tr>\n",
       "      <td>0</td>\n",
       "      <td>3</td>\n",
       "      <td>484336</td>\n",
       "      <td>2013-12-19</td>\n",
       "      <td>-306,97</td>\n",
       "      <td>FLIGHT</td>\n",
       "      <td>Vliegticket</td>\n",
       "      <td>6,70432E+12</td>\n",
       "      <td>1-12-2013</td>\n",
       "      <td>63FWQCM</td>\n",
       "      <td>LED/VKO/JFK/BOS</td>\n",
       "      <td>UN</td>\n",
       "      <td>NaN</td>\n",
       "      <td>NaN</td>\n",
       "      <td>19-12-2013</td>\n",
       "      <td>A</td>\n",
       "      <td>JFK</td>\n",
       "    </tr>\n",
       "    <tr>\n",
       "      <td>5</td>\n",
       "      <td>3</td>\n",
       "      <td>489787</td>\n",
       "      <td>2014-01-01</td>\n",
       "      <td>13,98</td>\n",
       "      <td>REISVERZEKERING</td>\n",
       "      <td>VLIEGTICKETGARANTIE IPP</td>\n",
       "      <td>NaN</td>\n",
       "      <td>NaN</td>\n",
       "      <td>NaN</td>\n",
       "      <td>NaN</td>\n",
       "      <td>NaN</td>\n",
       "      <td>NaN</td>\n",
       "      <td>NaN</td>\n",
       "      <td>1-1-2014</td>\n",
       "      <td>N</td>\n",
       "      <td>NaN</td>\n",
       "    </tr>\n",
       "    <tr>\n",
       "      <td>6</td>\n",
       "      <td>3</td>\n",
       "      <td>489787</td>\n",
       "      <td>2014-01-01</td>\n",
       "      <td>41</td>\n",
       "      <td>OVERIGE</td>\n",
       "      <td>Boekingskosten</td>\n",
       "      <td>NaN</td>\n",
       "      <td>NaN</td>\n",
       "      <td>NaN</td>\n",
       "      <td>NaN</td>\n",
       "      <td>NaN</td>\n",
       "      <td>NaN</td>\n",
       "      <td>NaN</td>\n",
       "      <td>1-1-2014</td>\n",
       "      <td>N</td>\n",
       "      <td>NaN</td>\n",
       "    </tr>\n",
       "    <tr>\n",
       "      <td>8</td>\n",
       "      <td>3</td>\n",
       "      <td>489798</td>\n",
       "      <td>2014-01-01</td>\n",
       "      <td>16,4</td>\n",
       "      <td>REISVERZEKERING</td>\n",
       "      <td>KORTLOPENDE ANNULERINGSVERZEKE</td>\n",
       "      <td>NaN</td>\n",
       "      <td>NaN</td>\n",
       "      <td>NaN</td>\n",
       "      <td>NaN</td>\n",
       "      <td>NaN</td>\n",
       "      <td>NaN</td>\n",
       "      <td>NaN</td>\n",
       "      <td>27-2-2014</td>\n",
       "      <td>N</td>\n",
       "      <td>NaN</td>\n",
       "    </tr>\n",
       "    <tr>\n",
       "      <td>9</td>\n",
       "      <td>3</td>\n",
       "      <td>489798</td>\n",
       "      <td>2014-01-01</td>\n",
       "      <td>8,5</td>\n",
       "      <td>OVERIGE</td>\n",
       "      <td>Boekingskosten</td>\n",
       "      <td>NaN</td>\n",
       "      <td>NaN</td>\n",
       "      <td>NaN</td>\n",
       "      <td>NaN</td>\n",
       "      <td>NaN</td>\n",
       "      <td>NaN</td>\n",
       "      <td>NaN</td>\n",
       "      <td>1-1-2014</td>\n",
       "      <td>N</td>\n",
       "      <td>NaN</td>\n",
       "    </tr>\n",
       "    <tr>\n",
       "      <td>...</td>\n",
       "      <td>...</td>\n",
       "      <td>...</td>\n",
       "      <td>...</td>\n",
       "      <td>...</td>\n",
       "      <td>...</td>\n",
       "      <td>...</td>\n",
       "      <td>...</td>\n",
       "      <td>...</td>\n",
       "      <td>...</td>\n",
       "      <td>...</td>\n",
       "      <td>...</td>\n",
       "      <td>...</td>\n",
       "      <td>...</td>\n",
       "      <td>...</td>\n",
       "      <td>...</td>\n",
       "      <td>...</td>\n",
       "    </tr>\n",
       "    <tr>\n",
       "      <td>100853</td>\n",
       "      <td>33</td>\n",
       "      <td>2148</td>\n",
       "      <td>2013-12-31</td>\n",
       "      <td>199</td>\n",
       "      <td>REISVERZEKERING</td>\n",
       "      <td>VLIEGTICKETGARANTIE IPP</td>\n",
       "      <td>NaN</td>\n",
       "      <td>NaN</td>\n",
       "      <td>NaN</td>\n",
       "      <td>NaN</td>\n",
       "      <td>NaN</td>\n",
       "      <td>NaN</td>\n",
       "      <td>NaN</td>\n",
       "      <td>31-12-2013</td>\n",
       "      <td>N</td>\n",
       "      <td>NaN</td>\n",
       "    </tr>\n",
       "    <tr>\n",
       "      <td>100854</td>\n",
       "      <td>33</td>\n",
       "      <td>2148</td>\n",
       "      <td>2013-12-31</td>\n",
       "      <td>250</td>\n",
       "      <td>OVERIGE</td>\n",
       "      <td>Boekingskosten</td>\n",
       "      <td>NaN</td>\n",
       "      <td>NaN</td>\n",
       "      <td>NaN</td>\n",
       "      <td>NaN</td>\n",
       "      <td>NaN</td>\n",
       "      <td>NaN</td>\n",
       "      <td>NaN</td>\n",
       "      <td>31-12-2013</td>\n",
       "      <td>N</td>\n",
       "      <td>NaN</td>\n",
       "    </tr>\n",
       "    <tr>\n",
       "      <td>100858</td>\n",
       "      <td>33</td>\n",
       "      <td>2150</td>\n",
       "      <td>2013-12-31</td>\n",
       "      <td>250</td>\n",
       "      <td>OVERIGE</td>\n",
       "      <td>Boekingskosten</td>\n",
       "      <td>NaN</td>\n",
       "      <td>NaN</td>\n",
       "      <td>NaN</td>\n",
       "      <td>NaN</td>\n",
       "      <td>NaN</td>\n",
       "      <td>NaN</td>\n",
       "      <td>NaN</td>\n",
       "      <td>31-12-2013</td>\n",
       "      <td>N</td>\n",
       "      <td>NaN</td>\n",
       "    </tr>\n",
       "    <tr>\n",
       "      <td>100863</td>\n",
       "      <td>33</td>\n",
       "      <td>2147</td>\n",
       "      <td>2013-12-30</td>\n",
       "      <td>544,7</td>\n",
       "      <td>REISVERZEKERING</td>\n",
       "      <td>VLIEGTICKETGARANTIE IPP</td>\n",
       "      <td>NaN</td>\n",
       "      <td>NaN</td>\n",
       "      <td>NaN</td>\n",
       "      <td>NaN</td>\n",
       "      <td>NaN</td>\n",
       "      <td>NaN</td>\n",
       "      <td>NaN</td>\n",
       "      <td>30-12-2013</td>\n",
       "      <td>N</td>\n",
       "      <td>NaN</td>\n",
       "    </tr>\n",
       "    <tr>\n",
       "      <td>100864</td>\n",
       "      <td>33</td>\n",
       "      <td>2147</td>\n",
       "      <td>2013-12-30</td>\n",
       "      <td>387,5</td>\n",
       "      <td>OVERIGE</td>\n",
       "      <td>Boekingskosten</td>\n",
       "      <td>NaN</td>\n",
       "      <td>NaN</td>\n",
       "      <td>NaN</td>\n",
       "      <td>NaN</td>\n",
       "      <td>NaN</td>\n",
       "      <td>NaN</td>\n",
       "      <td>NaN</td>\n",
       "      <td>30-12-2013</td>\n",
       "      <td>N</td>\n",
       "      <td>NaN</td>\n",
       "    </tr>\n",
       "  </tbody>\n",
       "</table>\n",
       "<p>31154 rows × 16 columns</p>\n",
       "</div>"
      ],
      "text/plain": [
       "        Country identifier  Order identifier Departure date   Amount  \\\n",
       "0                        3            484336     2013-12-19  -306,97   \n",
       "5                        3            489787     2014-01-01    13,98   \n",
       "6                        3            489787     2014-01-01       41   \n",
       "8                        3            489798     2014-01-01     16,4   \n",
       "9                        3            489798     2014-01-01      8,5   \n",
       "...                    ...               ...            ...      ...   \n",
       "100853                  33              2148     2013-12-31      199   \n",
       "100854                  33              2148     2013-12-31      250   \n",
       "100858                  33              2150     2013-12-31      250   \n",
       "100863                  33              2147     2013-12-30    544,7   \n",
       "100864                  33              2147     2013-12-30    387,5   \n",
       "\n",
       "               Category                         Product Ticket number  \\\n",
       "0                FLIGHT                     Vliegticket   6,70432E+12   \n",
       "5       REISVERZEKERING         VLIEGTICKETGARANTIE IPP           NaN   \n",
       "6               OVERIGE                  Boekingskosten           NaN   \n",
       "8       REISVERZEKERING  KORTLOPENDE ANNULERINGSVERZEKE           NaN   \n",
       "9               OVERIGE                  Boekingskosten           NaN   \n",
       "...                 ...                             ...           ...   \n",
       "100853  REISVERZEKERING         VLIEGTICKETGARANTIE IPP           NaN   \n",
       "100854          OVERIGE                  Boekingskosten           NaN   \n",
       "100858          OVERIGE                  Boekingskosten           NaN   \n",
       "100863  REISVERZEKERING         VLIEGTICKETGARANTIE IPP           NaN   \n",
       "100864          OVERIGE                  Boekingskosten           NaN   \n",
       "\n",
       "       Ticket issuance date Booking identifier     Ticket route Airline code  \\\n",
       "0                 1-12-2013            63FWQCM  LED/VKO/JFK/BOS           UN   \n",
       "5                       NaN                NaN              NaN          NaN   \n",
       "6                       NaN                NaN              NaN          NaN   \n",
       "8                       NaN                NaN              NaN          NaN   \n",
       "9                       NaN                NaN              NaN          NaN   \n",
       "...                     ...                ...              ...          ...   \n",
       "100853                  NaN                NaN              NaN          NaN   \n",
       "100854                  NaN                NaN              NaN          NaN   \n",
       "100858                  NaN                NaN              NaN          NaN   \n",
       "100863                  NaN                NaN              NaN          NaN   \n",
       "100864                  NaN                NaN              NaN          NaN   \n",
       "\n",
       "       Booking channel Booking sub-channell Date of last segment  \\\n",
       "0                  NaN                  NaN           19-12-2013   \n",
       "5                  NaN                  NaN             1-1-2014   \n",
       "6                  NaN                  NaN             1-1-2014   \n",
       "8                  NaN                  NaN            27-2-2014   \n",
       "9                  NaN                  NaN             1-1-2014   \n",
       "...                ...                  ...                  ...   \n",
       "100853             NaN                  NaN           31-12-2013   \n",
       "100854             NaN                  NaN           31-12-2013   \n",
       "100858             NaN                  NaN           31-12-2013   \n",
       "100863             NaN                  NaN           30-12-2013   \n",
       "100864             NaN                  NaN           30-12-2013   \n",
       "\n",
       "       New/Changed/Cancelled Destination  \n",
       "0                          A         JFK  \n",
       "5                          N         NaN  \n",
       "6                          N         NaN  \n",
       "8                          N         NaN  \n",
       "9                          N         NaN  \n",
       "...                      ...         ...  \n",
       "100853                     N         NaN  \n",
       "100854                     N         NaN  \n",
       "100858                     N         NaN  \n",
       "100863                     N         NaN  \n",
       "100864                     N         NaN  \n",
       "\n",
       "[31154 rows x 16 columns]"
      ]
     },
     "execution_count": 96,
     "metadata": {},
     "output_type": "execute_result"
    }
   ],
   "source": [
    "df_tf"
   ]
  },
  {
   "cell_type": "markdown",
   "metadata": {},
   "source": [
    "##### Analysis of the df_tf dataset"
   ]
  },
  {
   "cell_type": "code",
   "execution_count": 189,
   "metadata": {},
   "outputs": [
    {
     "data": {
      "image/png": "[encoded data removed]",
      "text/plain": [
       "<Figure size 432x288 with 1 Axes>"
      ]
     },
     "metadata": {
      "needs_background": "light"
     },
     "output_type": "display_data"
    }
   ],
   "source": [
    "df_tf['Airline code'].value_counts().sort_values(ascending=False).nlargest(10).plot(kind='bar')\n",
    "plt.title('Number of flights carried by an airline')\n",
    "plt.xlabel('Airline code')\n",
    "plt.ylabel('Number of flights')\n",
    "plt.show()"
   ]
  },
  {
   "cell_type": "code",
   "execution_count": 193,
   "metadata": {},
   "outputs": [
    {
     "data": {
      "text/plain": [
       "Booking channel\n",
       "Skyscanner UK                 107\n",
       "quickbooking skyscanner uk     74\n",
       "Idealo.de                      63\n",
       "Swoodoo.de                     59\n",
       "Kayak.uk                       53\n",
       "skyscanner.nl BNL Meta         47\n",
       "skyscanner.de German Meta      43\n",
       "Skyscanner.IE                  39\n",
       "Swoodoo.ch                     33\n",
       "Skyscanner.net in Spain        33\n",
       "Name: Airline code, dtype: int64"
      ]
     },
     "execution_count": 193,
     "metadata": {},
     "output_type": "execute_result"
    }
   ],
   "source": [
    "df_tf.groupby('Booking channel')['Airline code'].nunique().sort_values(ascending=False).nlargest(10)"
   ]
  },
  {
   "cell_type": "code",
   "execution_count": 199,
   "metadata": {},
   "outputs": [
    {
     "data": {
      "text/plain": [
       "2013-12-16    665\n",
       "2013-12-18    646\n",
       "2013-12-17    620\n",
       "2013-12-13    609\n",
       "2013-12-15    526\n",
       "2013-12-19    526\n",
       "2013-12-20    501\n",
       "2013-12-14    489\n",
       "2013-12-23    488\n",
       "2013-12-21    414\n",
       "2013-12-22    371\n",
       "2013-12-25    367\n",
       "2013-12-27    365\n",
       "2013-12-24    361\n",
       "2013-12-26    301\n",
       "2013-12-28    240\n",
       "2013-12-29    209\n",
       "2013-12-30    179\n",
       "2014-07-01    168\n",
       "2014-09-01    159\n",
       "Name: Ticket issuance date, dtype: int64"
      ]
     },
     "execution_count": 199,
     "metadata": {},
     "output_type": "execute_result"
    }
   ],
   "source": [
    "df_tf['Ticket issuance date'] = pd.to_datetime(df_tf['Ticket issuance date'])\n",
    "df_tf['Ticket issuance date'].value_counts().sort_values(ascending=False).nlargest(20)"
   ]
  },
  {
   "cell_type": "code",
   "execution_count": 204,
   "metadata": {},
   "outputs": [],
   "source": [
    "df_tf['Difference booking - departure'] = df_tf['Departure date'].dt.day - df_tf['Ticket issuance date'].dt.day"
   ]
  },
  {
   "cell_type": "code",
   "execution_count": 97,
   "metadata": {},
   "outputs": [
    {
     "data": {
      "text/plain": [
       "N    29403\n",
       "W     1449\n",
       "A      302\n",
       "Name: New/Changed/Cancelled, dtype: int64"
      ]
     },
     "execution_count": 97,
     "metadata": {},
     "output_type": "execute_result"
    }
   ],
   "source": [
    "#counting how many flights were new, changed or cancelled \n",
    "\n",
    "#Nieuw - New (N)\n",
    "#Wijziging - Changed (W)\n",
    "#Annulering - Cancelled (A)\n",
    "\n",
    "df_tf['New/Changed/Cancelled'].value_counts()"
   ]
  },
  {
   "cell_type": "code",
   "execution_count": 98,
   "metadata": {},
   "outputs": [
    {
     "data": {
      "text/plain": [
       "0"
      ]
     },
     "execution_count": 98,
     "metadata": {},
     "output_type": "execute_result"
    }
   ],
   "source": [
    "#checking whetehr there are any NaN values within a column\n",
    "df_tf['New/Changed/Cancelled'].isnull().sum()"
   ]
  },
  {
   "cell_type": "code",
   "execution_count": 99,
   "metadata": {},
   "outputs": [],
   "source": [
    "#selecting a part of dataframe where flights were only changed or cancelled\n",
    "df_changed = df_tf[df_tf['New/Changed/Cancelled'] == 'W']\n",
    "df_cancelled = df_tf[df_tf['New/Changed/Cancelled'] == 'A']\n",
    "df_new = df_tf[df_tf['New/Changed/Cancelled'] == 'N']"
   ]
  },
  {
   "cell_type": "code",
   "execution_count": 100,
   "metadata": {},
   "outputs": [],
   "source": [
    "#changing Amount column in each dataframe to series object\n",
    "W = pd.Series(df_changed['Amount'])\n",
    "A = pd.Series(df_cancelled['Amount'])\n",
    "N = pd.Series(df_new['Amount'])"
   ]
  },
  {
   "cell_type": "code",
   "execution_count": 101,
   "metadata": {},
   "outputs": [],
   "source": [
    "#function that changes each value in Amount column to float\n",
    "def make_float(num):\n",
    "    num = num.replace('.','').replace(',','.')\n",
    "    return float(num)"
   ]
  },
  {
   "cell_type": "code",
   "execution_count": 102,
   "metadata": {},
   "outputs": [
    {
     "name": "stderr",
     "output_type": "stream",
     "text": [
      "C:\\Users\\Oliwia1596\\Anaconda3\\lib\\site-packages\\ipykernel_launcher.py:1: SettingWithCopyWarning: \n",
      "A value is trying to be set on a copy of a slice from a DataFrame.\n",
      "Try using .loc[row_indexer,col_indexer] = value instead\n",
      "\n",
      "See the caveats in the documentation: http://pandas.pydata.org/pandas-docs/stable/user_guide/indexing.html#returning-a-view-versus-a-copy\n",
      "  \"\"\"Entry point for launching an IPython kernel.\n",
      "C:\\Users\\Oliwia1596\\Anaconda3\\lib\\site-packages\\ipykernel_launcher.py:2: SettingWithCopyWarning: \n",
      "A value is trying to be set on a copy of a slice from a DataFrame.\n",
      "Try using .loc[row_indexer,col_indexer] = value instead\n",
      "\n",
      "See the caveats in the documentation: http://pandas.pydata.org/pandas-docs/stable/user_guide/indexing.html#returning-a-view-versus-a-copy\n",
      "  \n",
      "C:\\Users\\Oliwia1596\\Anaconda3\\lib\\site-packages\\ipykernel_launcher.py:3: SettingWithCopyWarning: \n",
      "A value is trying to be set on a copy of a slice from a DataFrame.\n",
      "Try using .loc[row_indexer,col_indexer] = value instead\n",
      "\n",
      "See the caveats in the documentation: http://pandas.pydata.org/pandas-docs/stable/user_guide/indexing.html#returning-a-view-versus-a-copy\n",
      "  This is separate from the ipykernel package so we can avoid doing imports until\n"
     ]
    }
   ],
   "source": [
    "df_changed['Amount'] = W.map(make_float)\n",
    "df_cancelled['Amount'] = A.map(make_float)\n",
    "df_new['Amount'] = N.map(make_float)"
   ]
  },
  {
   "cell_type": "markdown",
   "metadata": {},
   "source": [
    "##### Calculated loss on changed flights"
   ]
  },
  {
   "cell_type": "code",
   "execution_count": 103,
   "metadata": {},
   "outputs": [
    {
     "data": {
      "text/plain": [
       "count      1449.000000\n",
       "mean       -129.073713\n",
       "std        4072.113609\n",
       "min     -134717.810000\n",
       "25%           0.000000\n",
       "50%           0.000000\n",
       "75%           0.000000\n",
       "max       11322.000000\n",
       "Name: Amount, dtype: float64"
      ]
     },
     "execution_count": 103,
     "metadata": {},
     "output_type": "execute_result"
    }
   ],
   "source": [
    "df_changed['Amount'].describe()"
   ]
  },
  {
   "cell_type": "code",
   "execution_count": 104,
   "metadata": {},
   "outputs": [
    {
     "name": "stdout",
     "output_type": "stream",
     "text": [
      "-187027.81\n"
     ]
    }
   ],
   "source": [
    "los_on_changed_flights = df_changed['Amount'].sum()\n",
    "print(los_on_changed_flights)"
   ]
  },
  {
   "cell_type": "markdown",
   "metadata": {},
   "source": [
    "##### Calculated loss on cancelled flights"
   ]
  },
  {
   "cell_type": "code",
   "execution_count": 105,
   "metadata": {},
   "outputs": [
    {
     "data": {
      "text/plain": [
       "count      302.000000\n",
       "mean     -4979.034404\n",
       "std      10959.228896\n",
       "min     -57946.000000\n",
       "25%      -1811.887500\n",
       "50%       -525.095000\n",
       "75%        -94.440000\n",
       "max       8489.000000\n",
       "Name: Amount, dtype: float64"
      ]
     },
     "execution_count": 105,
     "metadata": {},
     "output_type": "execute_result"
    }
   ],
   "source": [
    "df_cancelled['Amount'].describe()"
   ]
  },
  {
   "cell_type": "code",
   "execution_count": 106,
   "metadata": {},
   "outputs": [
    {
     "name": "stdout",
     "output_type": "stream",
     "text": [
      "-1503668.39\n"
     ]
    }
   ],
   "source": [
    "loss_on_cancelled_flights = df_cancelled['Amount'].sum()\n",
    "print(loss_on_cancelled_flights)"
   ]
  },
  {
   "cell_type": "markdown",
   "metadata": {},
   "source": [
    "##### Overall loss"
   ]
  },
  {
   "cell_type": "code",
   "execution_count": 107,
   "metadata": {},
   "outputs": [
    {
     "name": "stdout",
     "output_type": "stream",
     "text": [
      "-1690696.2\n"
     ]
    }
   ],
   "source": [
    "overall_loss = loss_on_cancelled_flights + los_on_changed_flights\n",
    "print(overall_loss)"
   ]
  },
  {
   "cell_type": "markdown",
   "metadata": {},
   "source": [
    "##### Gain on new flights"
   ]
  },
  {
   "cell_type": "code",
   "execution_count": 108,
   "metadata": {},
   "outputs": [
    {
     "data": {
      "text/plain": [
       "15793226.59"
      ]
     },
     "execution_count": 108,
     "metadata": {},
     "output_type": "execute_result"
    }
   ],
   "source": [
    "gain = df_new['Amount'].sum()\n",
    "gain"
   ]
  },
  {
   "cell_type": "markdown",
   "metadata": {},
   "source": [
    "###### Profit"
   ]
  },
  {
   "cell_type": "code",
   "execution_count": 109,
   "metadata": {},
   "outputs": [
    {
     "data": {
      "text/plain": [
       "14102530.39"
      ]
     },
     "execution_count": 109,
     "metadata": {},
     "output_type": "execute_result"
    }
   ],
   "source": [
    "profit = gain + overall_loss\n",
    "profit"
   ]
  },
  {
   "cell_type": "markdown",
   "metadata": {},
   "source": [
    "### Differences between airlines and possible reasons"
   ]
  },
  {
   "cell_type": "markdown",
   "metadata": {},
   "source": [
    "##### Number of flights cancelled split by an airline "
   ]
  },
  {
   "cell_type": "code",
   "execution_count": 110,
   "metadata": {},
   "outputs": [
    {
     "data": {
      "text/plain": [
       "LH    25\n",
       "UN    23\n",
       "SU    19\n",
       "9W    17\n",
       "DL    12\n",
       "KL    10\n",
       "AI    10\n",
       "Name: Airline code, dtype: int64"
      ]
     },
     "execution_count": 110,
     "metadata": {},
     "output_type": "execute_result"
    }
   ],
   "source": [
    "#amount_of_flights_cancelled_by_airline 7 largest\n",
    "cancelled_by_airline = df_cancelled['Airline code'].value_counts().loc[lambda x: x>9]\n",
    "cancelled_by_airline"
   ]
  },
  {
   "cell_type": "code",
   "execution_count": 111,
   "metadata": {},
   "outputs": [
    {
     "data": {
      "image/png": "[encoded data removed]",
      "text/plain": [
       "<Figure size 432x288 with 1 Axes>"
      ]
     },
     "metadata": {
      "needs_background": "light"
     },
     "output_type": "display_data"
    }
   ],
   "source": [
    "cancelled_by_airline.plot(kind='bar')\n",
    "plt.title('Airlines that cancelled flights most frequently')\n",
    "plt.xlabel('Airline code')\n",
    "plt.ylabel('Number of flights cancelled')\n",
    "plt.show()"
   ]
  },
  {
   "cell_type": "markdown",
   "metadata": {},
   "source": [
    "##### Number of flights changed, split by an airline"
   ]
  },
  {
   "cell_type": "code",
   "execution_count": 112,
   "metadata": {},
   "outputs": [
    {
     "data": {
      "text/plain": [
       "KL    98\n",
       "LH    67\n",
       "BA    60\n",
       "TG    36\n",
       "TK    32\n",
       "QR    27\n",
       "EK    27\n",
       "Name: Airline code, dtype: int64"
      ]
     },
     "execution_count": 112,
     "metadata": {},
     "output_type": "execute_result"
    }
   ],
   "source": [
    "#amount_of_flights_changed_by_airline 7 largest\n",
    "changed_by_airline = df_changed['Airline code'].value_counts().loc[lambda x: x>25]\n",
    "changed_by_airline"
   ]
  },
  {
   "cell_type": "code",
   "execution_count": 113,
   "metadata": {},
   "outputs": [
    {
     "data": {
      "image/png": "[encoded data removed]",
      "text/plain": [
       "<Figure size 432x288 with 1 Axes>"
      ]
     },
     "metadata": {
      "needs_background": "light"
     },
     "output_type": "display_data"
    }
   ],
   "source": [
    "changed_by_airline.plot(kind='bar')\n",
    "plt.title('Airlines that changed flights most frequently')\n",
    "plt.xlabel('Airline code')\n",
    "plt.ylabel('Number of flights changed')\n",
    "plt.show()"
   ]
  },
  {
   "cell_type": "markdown",
   "metadata": {},
   "source": [
    "##### Loss on cancelled flights, split by an airline"
   ]
  },
  {
   "cell_type": "code",
   "execution_count": 114,
   "metadata": {},
   "outputs": [],
   "source": [
    "loss_by_airline_cancelled = df_cancelled.groupby('Airline code')['Amount'].sum()\n",
    "largest_loss_by_airline_cancelled = loss_by_airline_cancelled.nsmallest(7)"
   ]
  },
  {
   "cell_type": "code",
   "execution_count": 115,
   "metadata": {},
   "outputs": [
    {
     "data": {
      "image/png": "[encoded data removed]",
      "text/plain": [
       "<Figure size 432x288 with 1 Axes>"
      ]
     },
     "metadata": {
      "needs_background": "light"
     },
     "output_type": "display_data"
    }
   ],
   "source": [
    "largest_loss_by_airline_cancelled.plot(kind='bar')\n",
    "plt.title('Amount of loss on cancelled flights')\n",
    "plt.xlabel('Airline code')\n",
    "plt.ylabel('Loss')\n",
    "plt.show()"
   ]
  },
  {
   "cell_type": "markdown",
   "metadata": {},
   "source": [
    "##### Loss on changed flights, split by an airline"
   ]
  },
  {
   "cell_type": "code",
   "execution_count": 116,
   "metadata": {},
   "outputs": [
    {
     "data": {
      "text/plain": [
       "Airline code\n",
       "AI   -87265.17\n",
       "BA   -65731.94\n",
       "JU   -34305.00\n",
       "KQ   -25998.00\n",
       "AF    -9525.15\n",
       "WY    -9144.00\n",
       "UN    -2092.00\n",
       "Name: Amount, dtype: float64"
      ]
     },
     "execution_count": 116,
     "metadata": {},
     "output_type": "execute_result"
    }
   ],
   "source": [
    "loss_by_airline_changed = df_changed.groupby('Airline code')['Amount'].sum()\n",
    "largest_loss_by_airline_changed = loss_by_airline_changed.nsmallest(7)\n",
    "largest_loss_by_airline_changed"
   ]
  },
  {
   "cell_type": "code",
   "execution_count": 117,
   "metadata": {},
   "outputs": [
    {
     "data": {
      "image/png": "[encoded data removed]",
      "text/plain": [
       "<Figure size 432x288 with 1 Axes>"
      ]
     },
     "metadata": {
      "needs_background": "light"
     },
     "output_type": "display_data"
    }
   ],
   "source": [
    "largest_loss_by_airline_changed.plot(kind='bar')\n",
    "plt.title('Amount of loss on changed flights')\n",
    "plt.xlabel('Airline code')\n",
    "plt.ylabel('Loss')\n",
    "plt.show()"
   ]
  },
  {
   "cell_type": "markdown",
   "metadata": {},
   "source": [
    "### Analysis of seperate airlines"
   ]
  },
  {
   "cell_type": "markdown",
   "metadata": {},
   "source": [
    "##### KLM"
   ]
  },
  {
   "cell_type": "code",
   "execution_count": 118,
   "metadata": {},
   "outputs": [
    {
     "data": {
      "text/plain": [
       "490.48"
      ]
     },
     "execution_count": 118,
     "metadata": {},
     "output_type": "execute_result"
    }
   ],
   "source": [
    "changed_by_KLM = df_changed[df_changed['Airline code']=='KL']\n",
    "changed_by_KLM['Amount'].sum()"
   ]
  },
  {
   "cell_type": "code",
   "execution_count": 119,
   "metadata": {},
   "outputs": [],
   "source": [
    "cancelled_and_changed = pd.concat([df_cancelled, df_changed], axis = 0)"
   ]
  },
  {
   "cell_type": "code",
   "execution_count": 120,
   "metadata": {},
   "outputs": [
    {
     "data": {
      "text/plain": [
       "-2982.04"
      ]
     },
     "execution_count": 120,
     "metadata": {},
     "output_type": "execute_result"
    }
   ],
   "source": [
    "cancelled_and_changed_by_KLM = cancelled_and_changed[cancelled_and_changed['Airline code']=='KL']\n",
    "cancelled_and_changed_by_KLM['Amount'].sum()"
   ]
  },
  {
   "cell_type": "code",
   "execution_count": 121,
   "metadata": {},
   "outputs": [
    {
     "data": {
      "text/plain": [
       "Departure date\n",
       "2013-12-14    3\n",
       "2013-12-15    1\n",
       "2013-12-16    1\n",
       "2013-12-17    3\n",
       "2013-12-18    4\n",
       "2013-12-19    5\n",
       "2013-12-20    5\n",
       "2013-12-21    3\n",
       "2013-12-23    2\n",
       "2013-12-25    3\n",
       "2013-12-26    4\n",
       "2013-12-27    4\n",
       "2013-12-28    4\n",
       "2013-12-29    2\n",
       "2013-12-30    3\n",
       "2013-12-31    2\n",
       "2014-01-01    1\n",
       "2014-01-02    1\n",
       "2014-01-03    2\n",
       "2014-01-04    1\n",
       "2014-01-13    1\n",
       "Name: Order identifier, dtype: int64"
      ]
     },
     "execution_count": 121,
     "metadata": {},
     "output_type": "execute_result"
    }
   ],
   "source": [
    "cancelled_and_changed_by_KLM.groupby('Departure date')['Order identifier'].nunique()"
   ]
  },
  {
   "cell_type": "code",
   "execution_count": 122,
   "metadata": {},
   "outputs": [
    {
     "data": {
      "text/plain": [
       "MAD/AMS/MAD                    6\n",
       "TLS/AMS                        5\n",
       "/No flight details             4\n",
       "IST/AMS/IST                    4\n",
       "AMS/VIE/AMS                    4\n",
       "LHR/AMS/LHR                    4\n",
       "AGP/AMS/DEL/CDG/AGP            4\n",
       "SAW/AMS/DTW/IND/DTW/AMS/SAW    4\n",
       "VIE/AMS/VIE                    3\n",
       "AMS/WAW/***/ATH/AMS            3\n",
       "Name: Ticket route, dtype: int64"
      ]
     },
     "execution_count": 122,
     "metadata": {},
     "output_type": "execute_result"
    }
   ],
   "source": [
    "cancelled_and_changed_by_KLM['Ticket route'].value_counts().nlargest(10)"
   ]
  },
  {
   "cell_type": "code",
   "execution_count": 154,
   "metadata": {},
   "outputs": [],
   "source": [
    "#calculating number of flights carried by KLM within a time period \n",
    "flights_by_KLM_tp = df_tf[df_tf['Airline code']=='KL']\n",
    "summed_KLM = flights_by_KLM_tp.count()[0]"
   ]
  },
  {
   "cell_type": "code",
   "execution_count": 124,
   "metadata": {},
   "outputs": [
    {
     "data": {
      "text/plain": [
       "5867"
      ]
     },
     "execution_count": 124,
     "metadata": {},
     "output_type": "execute_result"
    }
   ],
   "source": [
    "#calculating number of flights carried by KLM within a whole period\n",
    "flights_by_KLM = df[df['Airline code']=='KL']\n",
    "flights_by_KLM.count()[0] "
   ]
  },
  {
   "cell_type": "code",
   "execution_count": 152,
   "metadata": {},
   "outputs": [
    {
     "data": {
      "text/plain": [
       "10"
      ]
     },
     "execution_count": 152,
     "metadata": {},
     "output_type": "execute_result"
    }
   ],
   "source": [
    "#calculating number of flights cancelled by KLM within a time period\n",
    "df_cancelled_by_KLM = df_cancelled[df_cancelled['Airline code']=='KL']\n",
    "cancelled_KLM = df_cancelled_by_KLM.count()[0] \n",
    "cancelled_KLM "
   ]
  },
  {
   "cell_type": "code",
   "execution_count": 153,
   "metadata": {},
   "outputs": [
    {
     "data": {
      "text/plain": [
       "98"
      ]
     },
     "execution_count": 153,
     "metadata": {},
     "output_type": "execute_result"
    }
   ],
   "source": [
    "#calculating number of flights changed by KLM within a time period\n",
    "df_changed_by_KLM = df_changed[df_changed['Airline code']=='KL']\n",
    "changed_KLM = df_changed_by_KLM.count()[0] \n",
    "changed_KLM "
   ]
  },
  {
   "cell_type": "code",
   "execution_count": 155,
   "metadata": {},
   "outputs": [
    {
     "data": {
      "text/plain": [
       "0.01"
      ]
     },
     "execution_count": 155,
     "metadata": {},
     "output_type": "execute_result"
    }
   ],
   "source": [
    "#percentage of cancelled flights to overall number of flights made by KLM\n",
    "round(cancelled_KLM/summed_KLM,2)"
   ]
  },
  {
   "cell_type": "code",
   "execution_count": 156,
   "metadata": {},
   "outputs": [
    {
     "data": {
      "text/plain": [
       "0.11"
      ]
     },
     "execution_count": 156,
     "metadata": {},
     "output_type": "execute_result"
    }
   ],
   "source": [
    "#percentage of changed flights to overall number of flights made by KLM\n",
    "round(changed_KLM/summed_KLM,2)"
   ]
  },
  {
   "cell_type": "markdown",
   "metadata": {},
   "source": [
    "##### Lufthansa"
   ]
  },
  {
   "cell_type": "code",
   "execution_count": 126,
   "metadata": {},
   "outputs": [],
   "source": [
    "cancelled_and_changed_by_Lufthansa = cancelled_and_changed[cancelled_and_changed['Airline code']=='LH']"
   ]
  },
  {
   "cell_type": "code",
   "execution_count": 127,
   "metadata": {},
   "outputs": [
    {
     "data": {
      "text/plain": [
       "-10204.93"
      ]
     },
     "execution_count": 127,
     "metadata": {},
     "output_type": "execute_result"
    }
   ],
   "source": [
    "cancelled_and_changed_by_Lufthansa['Amount'].sum()"
   ]
  },
  {
   "cell_type": "code",
   "execution_count": 128,
   "metadata": {
    "scrolled": true
   },
   "outputs": [
    {
     "data": {
      "text/plain": [
       "Kayak.es      8\n",
       "Idealo.de     8\n",
       "Swoodoo.de    7\n",
       "Name: Booking channel, dtype: int64"
      ]
     },
     "execution_count": 128,
     "metadata": {},
     "output_type": "execute_result"
    }
   ],
   "source": [
    "cancelled_and_changed_by_Lufthansa['Booking channel'].value_counts().nlargest(3)"
   ]
  },
  {
   "cell_type": "code",
   "execution_count": 129,
   "metadata": {},
   "outputs": [
    {
     "data": {
      "text/plain": [
       "DUB    8\n",
       "GOT    8\n",
       "FRA    6\n",
       "Name: Destination, dtype: int64"
      ]
     },
     "execution_count": 129,
     "metadata": {},
     "output_type": "execute_result"
    }
   ],
   "source": [
    "cancelled_and_changed_by_Lufthansa['Destination'].value_counts().nlargest(3)"
   ]
  },
  {
   "cell_type": "code",
   "execution_count": 130,
   "metadata": {},
   "outputs": [
    {
     "data": {
      "text/plain": [
       "685"
      ]
     },
     "execution_count": 130,
     "metadata": {},
     "output_type": "execute_result"
    }
   ],
   "source": [
    "#calculating number of flights carried by Lufthansa within a time period \n",
    "flights_by_Lufthansa_tp = df_tf[df_tf['Airline code']=='LH']\n",
    "summed_LH = flights_by_Lufthansa_tp.count()[0]\n",
    "summed_LH"
   ]
  },
  {
   "cell_type": "code",
   "execution_count": 131,
   "metadata": {},
   "outputs": [
    {
     "data": {
      "text/plain": [
       "4529"
      ]
     },
     "execution_count": 131,
     "metadata": {},
     "output_type": "execute_result"
    }
   ],
   "source": [
    "#calculating number of flights carried by Lufthansa within a whole period\n",
    "flights_by_Lufthansa = df[df['Airline code']=='LH']\n",
    "flights_by_Lufthansa.count()[0] "
   ]
  },
  {
   "cell_type": "code",
   "execution_count": 132,
   "metadata": {},
   "outputs": [],
   "source": [
    "#calculating number of flights cancelled by Lufthansa within a time period\n",
    "df_cancelled_by_LH = df_cancelled[df_cancelled['Airline code']=='LH']\n",
    "df_cancelled_by_LH = df_cancelled.count()[0] "
   ]
  },
  {
   "cell_type": "code",
   "execution_count": 133,
   "metadata": {},
   "outputs": [],
   "source": [
    "#calculating number of flights changed by Lufthansa within a time period\n",
    "df_changed_by_LH = df_changed[df_changed['Airline code']=='LH']\n",
    "changed_LH = df_changed_by_LH.count()[0] "
   ]
  },
  {
   "cell_type": "code",
   "execution_count": 134,
   "metadata": {},
   "outputs": [
    {
     "data": {
      "text/plain": [
       "0.04"
      ]
     },
     "execution_count": 134,
     "metadata": {},
     "output_type": "execute_result"
    }
   ],
   "source": [
    "#percentage of cancelled flights to overall number of flights made by Lufthansa\n",
    "round(cancelled_LH/summed_LH,2)"
   ]
  },
  {
   "cell_type": "code",
   "execution_count": 135,
   "metadata": {},
   "outputs": [
    {
     "data": {
      "text/plain": [
       "0.1"
      ]
     },
     "execution_count": 135,
     "metadata": {},
     "output_type": "execute_result"
    }
   ],
   "source": [
    "#percentage of changed flights to overall number of flights made by Lufthansa\n",
    "round(changed_LH/summed_LH,2)"
   ]
  },
  {
   "cell_type": "markdown",
   "metadata": {},
   "source": [
    "###### Air India"
   ]
  },
  {
   "cell_type": "code",
   "execution_count": 136,
   "metadata": {},
   "outputs": [],
   "source": [
    "changed_by_AirIndia = df_changed[df_changed['Airline code']=='AI']"
   ]
  },
  {
   "cell_type": "code",
   "execution_count": 137,
   "metadata": {},
   "outputs": [
    {
     "data": {
      "text/plain": [
       "DEL    6\n",
       "Name: Destination, dtype: int64"
      ]
     },
     "execution_count": 137,
     "metadata": {},
     "output_type": "execute_result"
    }
   ],
   "source": [
    "changed_by_AirIndia['Destination'].value_counts().nlargest(1)"
   ]
  },
  {
   "cell_type": "code",
   "execution_count": 138,
   "metadata": {},
   "outputs": [
    {
     "data": {
      "text/plain": [
       "2013-12-14    6\n",
       "2013-12-20    6\n",
       "2013-12-17    4\n",
       "2013-12-22    2\n",
       "2013-12-31    2\n",
       "2013-12-15    1\n",
       "2013-12-21    1\n",
       "Name: Departure date, dtype: int64"
      ]
     },
     "execution_count": 138,
     "metadata": {},
     "output_type": "execute_result"
    }
   ],
   "source": [
    "changed_by_AirIndia['Departure date'].value_counts()"
   ]
  },
  {
   "cell_type": "code",
   "execution_count": 139,
   "metadata": {},
   "outputs": [
    {
     "data": {
      "text/plain": [
       "momondo bua.in         6\n",
       "Skyscanner bua in      3\n",
       "Skyscanner.net CH      3\n",
       "skyscannerru bua.ru    1\n",
       "Name: Booking channel, dtype: int64"
      ]
     },
     "execution_count": 139,
     "metadata": {},
     "output_type": "execute_result"
    }
   ],
   "source": [
    "changed_by_AirIndia['Booking channel'].value_counts()"
   ]
  },
  {
   "cell_type": "code",
   "execution_count": 140,
   "metadata": {},
   "outputs": [
    {
     "data": {
      "text/plain": [
       "BKK    57\n",
       "AMS    57\n",
       "JFK    31\n",
       "Name: Destination, dtype: int64"
      ]
     },
     "execution_count": 140,
     "metadata": {},
     "output_type": "execute_result"
    }
   ],
   "source": [
    "df_changed['Destination'].value_counts().nlargest(3)"
   ]
  },
  {
   "cell_type": "markdown",
   "metadata": {},
   "source": [
    "###### Transaero"
   ]
  },
  {
   "cell_type": "code",
   "execution_count": 141,
   "metadata": {},
   "outputs": [],
   "source": [
    "cancelled_by_Transaero = df_cancelled[df_cancelled['Airline code']=='UN']"
   ]
  },
  {
   "cell_type": "code",
   "execution_count": 142,
   "metadata": {},
   "outputs": [
    {
     "data": {
      "text/plain": [
       "JFK    8\n",
       "VIE    4\n",
       "MIA    3\n",
       "VKO    2\n",
       "HAV    2\n",
       "LAX    2\n",
       "LYS    1\n",
       "PFO    1\n",
       "Name: Destination, dtype: int64"
      ]
     },
     "execution_count": 142,
     "metadata": {},
     "output_type": "execute_result"
    }
   ],
   "source": [
    "cancelled_by_Transaero['Destination'].value_counts()"
   ]
  },
  {
   "cell_type": "code",
   "execution_count": 143,
   "metadata": {},
   "outputs": [
    {
     "data": {
      "text/html": [
       "<div>\n",
       "<style scoped>\n",
       "    .dataframe tbody tr th:only-of-type {\n",
       "        vertical-align: middle;\n",
       "    }\n",
       "\n",
       "    .dataframe tbody tr th {\n",
       "        vertical-align: top;\n",
       "    }\n",
       "\n",
       "    .dataframe thead th {\n",
       "        text-align: right;\n",
       "    }\n",
       "</style>\n",
       "<table border=\"1\" class=\"dataframe\">\n",
       "  <thead>\n",
       "    <tr style=\"text-align: right;\">\n",
       "      <th></th>\n",
       "      <th>Country identifier</th>\n",
       "      <th>Order identifier</th>\n",
       "      <th>Departure date</th>\n",
       "      <th>Amount</th>\n",
       "      <th>Category</th>\n",
       "      <th>Product</th>\n",
       "      <th>Ticket number</th>\n",
       "      <th>Ticket issuance date</th>\n",
       "      <th>Booking identifier</th>\n",
       "      <th>Ticket route</th>\n",
       "      <th>Airline code</th>\n",
       "      <th>Booking channel</th>\n",
       "      <th>Booking sub-channell</th>\n",
       "      <th>Date of last segment</th>\n",
       "      <th>New/Changed/Cancelled</th>\n",
       "      <th>Destination</th>\n",
       "    </tr>\n",
       "  </thead>\n",
       "  <tbody>\n",
       "    <tr>\n",
       "      <td>0</td>\n",
       "      <td>3</td>\n",
       "      <td>484336</td>\n",
       "      <td>2013-12-19</td>\n",
       "      <td>-306.97</td>\n",
       "      <td>FLIGHT</td>\n",
       "      <td>Vliegticket</td>\n",
       "      <td>6,70432E+12</td>\n",
       "      <td>1-12-2013</td>\n",
       "      <td>63FWQCM</td>\n",
       "      <td>LED/VKO/JFK/BOS</td>\n",
       "      <td>UN</td>\n",
       "      <td>NaN</td>\n",
       "      <td>NaN</td>\n",
       "      <td>19-12-2013</td>\n",
       "      <td>A</td>\n",
       "      <td>JFK</td>\n",
       "    </tr>\n",
       "    <tr>\n",
       "      <td>100671</td>\n",
       "      <td>32</td>\n",
       "      <td>17109</td>\n",
       "      <td>2013-12-27</td>\n",
       "      <td>-20906.00</td>\n",
       "      <td>FLIGHT</td>\n",
       "      <td>Vliegticket</td>\n",
       "      <td>6,71E+12</td>\n",
       "      <td>3-12-2013</td>\n",
       "      <td>7W9BVXM</td>\n",
       "      <td>VKO/JFK/VKO</td>\n",
       "      <td>UN</td>\n",
       "      <td>skyscanner bua.ru mobile</td>\n",
       "      <td>NaN</td>\n",
       "      <td>11-1-2014</td>\n",
       "      <td>A</td>\n",
       "      <td>JFK</td>\n",
       "    </tr>\n",
       "    <tr>\n",
       "      <td>100673</td>\n",
       "      <td>32</td>\n",
       "      <td>17609</td>\n",
       "      <td>2013-12-22</td>\n",
       "      <td>-21282.00</td>\n",
       "      <td>FLIGHT</td>\n",
       "      <td>Vliegticket</td>\n",
       "      <td>6,71E+12</td>\n",
       "      <td>10-12-2013</td>\n",
       "      <td>3GUSHAM</td>\n",
       "      <td>VKO/JFK/VKO</td>\n",
       "      <td>UN</td>\n",
       "      <td>momondo bua.ru</td>\n",
       "      <td>NaN</td>\n",
       "      <td>6-1-2014</td>\n",
       "      <td>A</td>\n",
       "      <td>JFK</td>\n",
       "    </tr>\n",
       "    <tr>\n",
       "      <td>100677</td>\n",
       "      <td>32</td>\n",
       "      <td>14448</td>\n",
       "      <td>2013-12-29</td>\n",
       "      <td>-21281.40</td>\n",
       "      <td>FLIGHT</td>\n",
       "      <td>Vliegticket</td>\n",
       "      <td>6,71E+12</td>\n",
       "      <td>12-10-2013</td>\n",
       "      <td>3FLJV9M</td>\n",
       "      <td>VKO/JFK</td>\n",
       "      <td>UN</td>\n",
       "      <td>skyscannerru bua.ru</td>\n",
       "      <td>fqn4yjMaEeO6egBQVpArCA</td>\n",
       "      <td>29-12-2013</td>\n",
       "      <td>A</td>\n",
       "      <td>JFK</td>\n",
       "    </tr>\n",
       "    <tr>\n",
       "      <td>100678</td>\n",
       "      <td>32</td>\n",
       "      <td>14448</td>\n",
       "      <td>2013-12-29</td>\n",
       "      <td>-21281.40</td>\n",
       "      <td>FLIGHT</td>\n",
       "      <td>Vliegticket</td>\n",
       "      <td>6,71E+12</td>\n",
       "      <td>12-10-2013</td>\n",
       "      <td>3FLJV9M</td>\n",
       "      <td>VKO/JFK</td>\n",
       "      <td>UN</td>\n",
       "      <td>skyscannerru bua.ru</td>\n",
       "      <td>fqn4yjMaEeO6egBQVpArCA</td>\n",
       "      <td>29-12-2013</td>\n",
       "      <td>A</td>\n",
       "      <td>JFK</td>\n",
       "    </tr>\n",
       "  </tbody>\n",
       "</table>\n",
       "</div>"
      ],
      "text/plain": [
       "        Country identifier  Order identifier Departure date    Amount  \\\n",
       "0                        3            484336     2013-12-19   -306.97   \n",
       "100671                  32             17109     2013-12-27 -20906.00   \n",
       "100673                  32             17609     2013-12-22 -21282.00   \n",
       "100677                  32             14448     2013-12-29 -21281.40   \n",
       "100678                  32             14448     2013-12-29 -21281.40   \n",
       "\n",
       "       Category      Product Ticket number Ticket issuance date  \\\n",
       "0        FLIGHT  Vliegticket   6,70432E+12            1-12-2013   \n",
       "100671   FLIGHT  Vliegticket      6,71E+12            3-12-2013   \n",
       "100673   FLIGHT  Vliegticket      6,71E+12           10-12-2013   \n",
       "100677   FLIGHT  Vliegticket      6,71E+12           12-10-2013   \n",
       "100678   FLIGHT  Vliegticket      6,71E+12           12-10-2013   \n",
       "\n",
       "       Booking identifier     Ticket route Airline code  \\\n",
       "0                 63FWQCM  LED/VKO/JFK/BOS           UN   \n",
       "100671            7W9BVXM      VKO/JFK/VKO           UN   \n",
       "100673            3GUSHAM      VKO/JFK/VKO           UN   \n",
       "100677            3FLJV9M          VKO/JFK           UN   \n",
       "100678            3FLJV9M          VKO/JFK           UN   \n",
       "\n",
       "                 Booking channel    Booking sub-channell Date of last segment  \\\n",
       "0                            NaN                     NaN           19-12-2013   \n",
       "100671  skyscanner bua.ru mobile                     NaN            11-1-2014   \n",
       "100673            momondo bua.ru                     NaN             6-1-2014   \n",
       "100677       skyscannerru bua.ru  fqn4yjMaEeO6egBQVpArCA           29-12-2013   \n",
       "100678       skyscannerru bua.ru  fqn4yjMaEeO6egBQVpArCA           29-12-2013   \n",
       "\n",
       "       New/Changed/Cancelled Destination  \n",
       "0                          A         JFK  \n",
       "100671                     A         JFK  \n",
       "100673                     A         JFK  \n",
       "100677                     A         JFK  \n",
       "100678                     A         JFK  "
      ]
     },
     "execution_count": 143,
     "metadata": {},
     "output_type": "execute_result"
    }
   ],
   "source": [
    "cancelled_by_Transaero[cancelled_by_Transaero['Destination']=='JFK'].head()"
   ]
  },
  {
   "cell_type": "markdown",
   "metadata": {},
   "source": [
    "### Seasonality"
   ]
  },
  {
   "cell_type": "markdown",
   "metadata": {},
   "source": [
    "##### changed flights"
   ]
  },
  {
   "cell_type": "code",
   "execution_count": 157,
   "metadata": {
    "scrolled": true
   },
   "outputs": [
    {
     "data": {
      "image/png": "[encoded data removed]",
      "text/plain": [
       "<Figure size 432x288 with 1 Axes>"
      ]
     },
     "metadata": {
      "needs_background": "light"
     },
     "output_type": "display_data"
    }
   ],
   "source": [
    "#visualizing trends \n",
    "df_changed.groupby('Departure date')['Amount'].sum().plot()\n",
    "plt.title('Amount of loss due to changed flights over time')\n",
    "plt.xlabel('Departure Date')\n",
    "plt.ylabel('Amount lost')\n",
    "plt.show()"
   ]
  },
  {
   "cell_type": "code",
   "execution_count": 161,
   "metadata": {},
   "outputs": [
    {
     "data": {
      "text/plain": [
       "-134863.74999999997"
      ]
     },
     "execution_count": 161,
     "metadata": {},
     "output_type": "execute_result"
    }
   ],
   "source": [
    "#Overall loss on the day of the drop\n",
    "df_changed[df_changed['Departure date'] == '31-12-2013']['Amount'].sum()\n",
    "#add the airline which caused this drop"
   ]
  },
  {
   "cell_type": "code",
   "execution_count": 165,
   "metadata": {},
   "outputs": [
    {
     "data": {
      "text/plain": [
       "56"
      ]
     },
     "execution_count": 165,
     "metadata": {},
     "output_type": "execute_result"
    }
   ],
   "source": [
    "#calculating how many flights were changed that day\n",
    "date_drop = df_changed[df_changed['Departure date'] == '31-12-2013']\n",
    "number_of_flights_1 = date_drop.count()[0]\n",
    "number_of_flights_1"
   ]
  },
  {
   "cell_type": "code",
   "execution_count": 177,
   "metadata": {},
   "outputs": [
    {
     "data": {
      "text/plain": [
       "Airline code\n",
       "AI   -134717.81\n",
       "SQ      -188.50\n",
       "KL       -67.71\n",
       "AF         0.00\n",
       "AV         0.00\n",
       "Name: Amount, dtype: float64"
      ]
     },
     "execution_count": 177,
     "metadata": {},
     "output_type": "execute_result"
    }
   ],
   "source": [
    "#calculating which airline caused the largest drop in loss of money\n",
    "date_drop.groupby('Airline code')['Amount'].sum().sort_values().nsmallest(5)"
   ]
  },
  {
   "cell_type": "markdown",
   "metadata": {},
   "source": [
    "##### cancelled flights"
   ]
  },
  {
   "cell_type": "code",
   "execution_count": 159,
   "metadata": {},
   "outputs": [
    {
     "data": {
      "image/png": "[encoded data removed]",
      "text/plain": [
       "<Figure size 432x288 with 1 Axes>"
      ]
     },
     "metadata": {
      "needs_background": "light"
     },
     "output_type": "display_data"
    }
   ],
   "source": [
    "#visualizing trends \n",
    "df_cancelled.groupby('Departure date')['Amount'].sum().plot()\n",
    "plt.title('Amount of loss due to cancelled flights over time')\n",
    "plt.xlabel('Departure Date')\n",
    "plt.ylabel('Amount Lost')\n",
    "plt.show()"
   ]
  },
  {
   "cell_type": "code",
   "execution_count": 174,
   "metadata": {},
   "outputs": [
    {
     "data": {
      "text/plain": [
       "-379432.99"
      ]
     },
     "execution_count": 174,
     "metadata": {},
     "output_type": "execute_result"
    }
   ],
   "source": [
    "#Overall loss on the day of the drop due to cancelled flights\n",
    "df_cancelled[df_cancelled['Departure date']=='25-12-2013']['Amount'].sum()"
   ]
  },
  {
   "cell_type": "code",
   "execution_count": 169,
   "metadata": {},
   "outputs": [
    {
     "data": {
      "text/plain": [
       "33"
      ]
     },
     "execution_count": 169,
     "metadata": {},
     "output_type": "execute_result"
    }
   ],
   "source": [
    "#calculating how many flights were changed that day\n",
    "date_drop_cancelled = df_cancelled[df_cancelled['Departure date']=='25-12-2013']\n",
    "number_of_flights_2 = date_drop_cancelled.count()[0]\n",
    "number_of_flights_2"
   ]
  },
  {
   "cell_type": "code",
   "execution_count": 178,
   "metadata": {},
   "outputs": [
    {
     "data": {
      "text/plain": [
       "Airline code\n",
       "MU   -115892.00\n",
       "SU   -114376.35\n",
       "HU    -65660.23\n",
       "UN    -43566.00\n",
       "KE    -34445.00\n",
       "Name: Amount, dtype: float64"
      ]
     },
     "execution_count": 178,
     "metadata": {},
     "output_type": "execute_result"
    }
   ],
   "source": [
    "#calculating which airline caused the largest drop in loss of money\n",
    "date_drop_cancelled.groupby('Airline code')['Amount'].sum().sort_values().nsmallest(5)"
   ]
  }
 ],
 "metadata": {
  "kernelspec": {
   "display_name": "Python 3",
   "language": "python",
   "name": "python3"
  },
  "language_info": {
   "codemirror_mode": {
    "name": "ipython",
    "version": 3
   },
   "file_extension": ".py",
   "mimetype": "text/x-python",
   "name": "python",
   "nbconvert_exporter": "python",
   "pygments_lexer": "ipython3",
   "version": "3.7.4"
  }
 },
 "nbformat": 4,
 "nbformat_minor": 2
}
